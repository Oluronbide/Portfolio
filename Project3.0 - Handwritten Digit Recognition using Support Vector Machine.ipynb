{
 "cells": [
  {
   "cell_type": "markdown",
   "id": "3a994eb3",
   "metadata": {},
   "source": [
    "### Project Title - Handwritten Digit Recognition Using Support Vector Machine\n",
    "\n",
    "#### Objective: This project is to predict Handwritten Digit Recognition"
   ]
  },
  {
   "cell_type": "markdown",
   "id": "e542e0b2",
   "metadata": {},
   "source": [
    "#### *Importing Libraries*"
   ]
  },
  {
   "cell_type": "code",
   "execution_count": 3,
   "id": "f3e8c5da",
   "metadata": {},
   "outputs": [],
   "source": [
    "import numpy as np\n",
    "from sklearn.datasets import load_digits"
   ]
  },
  {
   "cell_type": "markdown",
   "id": "6e09edd9",
   "metadata": {},
   "source": [
    "#### *Load Dataset*"
   ]
  },
  {
   "cell_type": "code",
   "execution_count": 4,
   "id": "1488dbaf",
   "metadata": {},
   "outputs": [],
   "source": [
    "dataset = load_digits()"
   ]
  },
  {
   "cell_type": "markdown",
   "id": "02c9f574",
   "metadata": {},
   "source": [
    "#### *Summarizing Dataset*"
   ]
  },
  {
   "cell_type": "code",
   "execution_count": 5,
   "id": "b285e3b8",
   "metadata": {},
   "outputs": [
    {
     "name": "stdout",
     "output_type": "stream",
     "text": [
      "[[ 0.  0.  5. ...  0.  0.  0.]\n",
      " [ 0.  0.  0. ... 10.  0.  0.]\n",
      " [ 0.  0.  0. ... 16.  9.  0.]\n",
      " ...\n",
      " [ 0.  0.  1. ...  6.  0.  0.]\n",
      " [ 0.  0.  2. ... 12.  0.  0.]\n",
      " [ 0.  0. 10. ... 12.  1.  0.]]\n",
      "[0 1 2 ... 8 9 8]\n",
      "(1797, 64)\n",
      "(1797, 8, 8)\n",
      "1797\n"
     ]
    }
   ],
   "source": [
    "print(dataset.data)\n",
    "print(dataset.target)\n",
    "\n",
    "print(dataset.data.shape)\n",
    "print(dataset.images.shape)\n",
    "\n",
    "dataimageLength = len(dataset.images)\n",
    "print(dataimageLength)"
   ]
  },
  {
   "cell_type": "markdown",
   "id": "f5951315",
   "metadata": {},
   "source": [
    "#### *Visualizing Dataset*"
   ]
  },
  {
   "cell_type": "code",
   "execution_count": 7,
   "id": "047ea9a7",
   "metadata": {},
   "outputs": [
    {
     "data": {
      "text/plain": [
       "<Figure size 432x288 with 0 Axes>"
      ]
     },
     "metadata": {},
     "output_type": "display_data"
    },
    {
     "data": {
      "image/png": "[encoded data removed]",
      "text/plain": [
       "<Figure size 288x288 with 1 Axes>"
      ]
     },
     "metadata": {
      "needs_background": "light"
     },
     "output_type": "display_data"
    },
    {
     "data": {
      "text/plain": [
       "array([[ 0.,  0., 12., 10.,  0.,  0.,  0.,  0.],\n",
       "       [ 0.,  0., 14., 16., 16., 14.,  0.,  0.],\n",
       "       [ 0.,  0., 13., 16., 15., 10.,  1.,  0.],\n",
       "       [ 0.,  0., 11., 16., 16.,  7.,  0.,  0.],\n",
       "       [ 0.,  0.,  0.,  4.,  7., 16.,  7.,  0.],\n",
       "       [ 0.,  0.,  0.,  0.,  4., 16.,  9.,  0.],\n",
       "       [ 0.,  0.,  5.,  4., 12., 16.,  4.,  0.],\n",
       "       [ 0.,  0.,  9., 16., 16., 10.,  0.,  0.]])"
      ]
     },
     "execution_count": 7,
     "metadata": {},
     "output_type": "execute_result"
    }
   ],
   "source": [
    "n=5 #No. of Sample out of Samples total 1797\n",
    "\n",
    "import matplotlib.pyplot as plt\n",
    "plt.gray()\n",
    "plt.matshow(dataset.images[n])\n",
    "plt.show()\n",
    "\n",
    "dataset.images[n]"
   ]
  },
  {
   "cell_type": "markdown",
   "id": "07271822",
   "metadata": {},
   "source": [
    "#### *Segregating Dataset into X(Input/IndependentVariable) & Y(Output/DependentVariable)*\n",
    "\n",
    "#### *Input - Pixel | Output - Class*"
   ]
  },
  {
   "cell_type": "code",
   "execution_count": 11,
   "id": "14d4500e",
   "metadata": {},
   "outputs": [
    {
     "name": "stdout",
     "output_type": "stream",
     "text": [
      "[[ 0.  0.  5. ...  0.  0.  0.]\n",
      " [ 0.  0.  0. ... 10.  0.  0.]\n",
      " [ 0.  0.  0. ... 16.  9.  0.]\n",
      " ...\n",
      " [ 0.  0.  1. ...  6.  0.  0.]\n",
      " [ 0.  0.  2. ... 12.  0.  0.]\n",
      " [ 0.  0. 10. ... 12.  1.  0.]]\n"
     ]
    }
   ],
   "source": [
    "X = dataset.images.reshape((dataimageLength,-1))\n",
    "print(X)"
   ]
  },
  {
   "cell_type": "code",
   "execution_count": 12,
   "id": "2f7441b6",
   "metadata": {},
   "outputs": [
    {
     "name": "stdout",
     "output_type": "stream",
     "text": [
      "[0 1 2 ... 8 9 8]\n"
     ]
    }
   ],
   "source": [
    "Y = dataset.target\n",
    "print(Y)"
   ]
  },
  {
   "cell_type": "markdown",
   "id": "b38c39a4",
   "metadata": {},
   "source": [
    "#### *Splitting Dataset into Train & Test*"
   ]
  },
  {
   "cell_type": "code",
   "execution_count": 13,
   "id": "449d3781",
   "metadata": {},
   "outputs": [
    {
     "name": "stdout",
     "output_type": "stream",
     "text": [
      "(1347, 64)\n",
      "(450, 64)\n"
     ]
    }
   ],
   "source": [
    "from sklearn.model_selection import train_test_split\n",
    "X_train, X_test, y_train, y_test = train_test_split(X, Y, test_size = 0.25, random_state = 0)\n",
    "print(X_train.shape)\n",
    "print(X_test.shape)"
   ]
  },
  {
   "cell_type": "markdown",
   "id": "cc5be7af",
   "metadata": {},
   "source": [
    "#### *Training the Dataset*"
   ]
  },
  {
   "cell_type": "code",
   "execution_count": 14,
   "id": "04202a99",
   "metadata": {},
   "outputs": [
    {
     "data": {
      "text/plain": [
       "SVC(kernel='linear')"
      ]
     },
     "execution_count": 14,
     "metadata": {},
     "output_type": "execute_result"
    }
   ],
   "source": [
    "from sklearn import svm\n",
    "model = svm.SVC(kernel='linear')\n",
    "model.fit(X_train,y_train)"
   ]
  },
  {
   "cell_type": "markdown",
   "id": "907bfc16",
   "metadata": {},
   "source": [
    "#### *Predicting, what the digit is from Test Data*"
   ]
  },
  {
   "cell_type": "code",
   "execution_count": 16,
   "id": "fc5c3a0c",
   "metadata": {},
   "outputs": [
    {
     "name": "stdout",
     "output_type": "stream",
     "text": [
      "[9]\n",
      "\n",
      "\n"
     ]
    },
    {
     "data": {
      "image/png": "[encoded data removed]",
      "text/plain": [
       "<Figure size 432x288 with 1 Axes>"
      ]
     },
     "metadata": {
      "needs_background": "light"
     },
     "output_type": "display_data"
    }
   ],
   "source": [
    "n=9\n",
    "result = model.predict(dataset.images[n].reshape((1,-1)))\n",
    "plt.imshow(dataset.images[n], cmap=plt.cm.gray_r, interpolation='nearest')     \n",
    "print(result)\n",
    "print(\"\\n\")\n",
    "plt.axis('off')\n",
    "plt.title('%i' %result)\n",
    "plt.show()"
   ]
  },
  {
   "cell_type": "markdown",
   "id": "7c35665c",
   "metadata": {},
   "source": [
    "#### *Predicting the Test Data*"
   ]
  },
  {
   "cell_type": "code",
   "execution_count": 17,
   "id": "4ccc7c7d",
   "metadata": {},
   "outputs": [
    {
     "name": "stdout",
     "output_type": "stream",
     "text": [
      "[[2 2]\n",
      " [8 8]\n",
      " [2 2]\n",
      " [6 6]\n",
      " [6 6]\n",
      " [7 7]\n",
      " [1 1]\n",
      " [9 9]\n",
      " [8 8]\n",
      " [5 5]\n",
      " [2 2]\n",
      " [8 8]\n",
      " [6 6]\n",
      " [6 6]\n",
      " [6 6]\n",
      " [6 6]\n",
      " [1 1]\n",
      " [0 0]\n",
      " [5 5]\n",
      " [8 8]\n",
      " [8 8]\n",
      " [7 7]\n",
      " [8 8]\n",
      " [4 4]\n",
      " [7 7]\n",
      " [5 5]\n",
      " [4 4]\n",
      " [9 9]\n",
      " [2 2]\n",
      " [9 9]\n",
      " [4 4]\n",
      " [7 7]\n",
      " [6 6]\n",
      " [8 8]\n",
      " [9 9]\n",
      " [4 4]\n",
      " [3 3]\n",
      " [1 1]\n",
      " [0 0]\n",
      " [1 1]\n",
      " [8 8]\n",
      " [6 6]\n",
      " [7 7]\n",
      " [7 7]\n",
      " [1 1]\n",
      " [0 0]\n",
      " [7 7]\n",
      " [6 6]\n",
      " [2 2]\n",
      " [1 1]\n",
      " [9 9]\n",
      " [6 6]\n",
      " [7 7]\n",
      " [9 9]\n",
      " [0 0]\n",
      " [0 0]\n",
      " [5 5]\n",
      " [1 1]\n",
      " [6 6]\n",
      " [3 3]\n",
      " [0 0]\n",
      " [2 2]\n",
      " [3 3]\n",
      " [4 4]\n",
      " [1 1]\n",
      " [9 9]\n",
      " [2 2]\n",
      " [6 6]\n",
      " [9 9]\n",
      " [1 1]\n",
      " [8 8]\n",
      " [3 3]\n",
      " [5 5]\n",
      " [1 1]\n",
      " [2 2]\n",
      " [8 8]\n",
      " [2 2]\n",
      " [2 2]\n",
      " [9 9]\n",
      " [7 7]\n",
      " [2 2]\n",
      " [3 3]\n",
      " [6 6]\n",
      " [0 0]\n",
      " [5 5]\n",
      " [3 3]\n",
      " [7 7]\n",
      " [5 5]\n",
      " [1 1]\n",
      " [2 2]\n",
      " [9 9]\n",
      " [9 9]\n",
      " [3 3]\n",
      " [1 1]\n",
      " [7 7]\n",
      " [7 7]\n",
      " [4 4]\n",
      " [8 8]\n",
      " [5 5]\n",
      " [8 8]\n",
      " [5 5]\n",
      " [5 5]\n",
      " [2 2]\n",
      " [5 5]\n",
      " [9 9]\n",
      " [0 0]\n",
      " [7 7]\n",
      " [1 1]\n",
      " [4 4]\n",
      " [4 7]\n",
      " [3 3]\n",
      " [4 4]\n",
      " [8 8]\n",
      " [9 9]\n",
      " [7 7]\n",
      " [9 9]\n",
      " [8 8]\n",
      " [2 2]\n",
      " [1 6]\n",
      " [5 5]\n",
      " [2 2]\n",
      " [5 5]\n",
      " [8 8]\n",
      " [4 4]\n",
      " [1 8]\n",
      " [7 7]\n",
      " [0 0]\n",
      " [6 6]\n",
      " [1 1]\n",
      " [5 5]\n",
      " [5 9]\n",
      " [9 9]\n",
      " [9 9]\n",
      " [5 5]\n",
      " [9 9]\n",
      " [9 9]\n",
      " [5 5]\n",
      " [7 7]\n",
      " [5 5]\n",
      " [6 6]\n",
      " [2 2]\n",
      " [8 8]\n",
      " [6 6]\n",
      " [9 9]\n",
      " [6 6]\n",
      " [1 1]\n",
      " [5 5]\n",
      " [1 1]\n",
      " [5 5]\n",
      " [9 9]\n",
      " [9 9]\n",
      " [1 1]\n",
      " [5 5]\n",
      " [3 3]\n",
      " [6 6]\n",
      " [1 1]\n",
      " [8 8]\n",
      " [9 9]\n",
      " [8 8]\n",
      " [7 7]\n",
      " [6 6]\n",
      " [7 7]\n",
      " [6 6]\n",
      " [5 5]\n",
      " [6 6]\n",
      " [0 0]\n",
      " [8 8]\n",
      " [8 8]\n",
      " [9 9]\n",
      " [8 8]\n",
      " [6 6]\n",
      " [1 1]\n",
      " [0 0]\n",
      " [4 4]\n",
      " [1 1]\n",
      " [6 6]\n",
      " [3 3]\n",
      " [8 8]\n",
      " [6 6]\n",
      " [7 7]\n",
      " [4 4]\n",
      " [9 5]\n",
      " [6 6]\n",
      " [3 3]\n",
      " [0 0]\n",
      " [3 3]\n",
      " [3 3]\n",
      " [3 3]\n",
      " [0 0]\n",
      " [7 7]\n",
      " [7 7]\n",
      " [5 5]\n",
      " [7 7]\n",
      " [8 8]\n",
      " [0 0]\n",
      " [7 7]\n",
      " [1 8]\n",
      " [9 9]\n",
      " [6 6]\n",
      " [4 4]\n",
      " [5 5]\n",
      " [0 0]\n",
      " [1 1]\n",
      " [4 4]\n",
      " [6 6]\n",
      " [4 4]\n",
      " [3 3]\n",
      " [3 3]\n",
      " [0 0]\n",
      " [9 9]\n",
      " [5 5]\n",
      " [3 9]\n",
      " [2 2]\n",
      " [1 1]\n",
      " [4 4]\n",
      " [2 2]\n",
      " [1 1]\n",
      " [6 6]\n",
      " [8 8]\n",
      " [9 9]\n",
      " [2 2]\n",
      " [4 4]\n",
      " [9 9]\n",
      " [3 3]\n",
      " [7 7]\n",
      " [6 6]\n",
      " [2 2]\n",
      " [3 3]\n",
      " [3 3]\n",
      " [1 1]\n",
      " [6 6]\n",
      " [9 9]\n",
      " [3 3]\n",
      " [6 6]\n",
      " [3 3]\n",
      " [2 2]\n",
      " [2 2]\n",
      " [0 0]\n",
      " [7 7]\n",
      " [6 6]\n",
      " [1 1]\n",
      " [1 1]\n",
      " [9 9]\n",
      " [7 7]\n",
      " [2 2]\n",
      " [7 7]\n",
      " [8 8]\n",
      " [5 5]\n",
      " [5 5]\n",
      " [7 7]\n",
      " [5 5]\n",
      " [2 2]\n",
      " [3 3]\n",
      " [7 7]\n",
      " [2 2]\n",
      " [7 7]\n",
      " [5 5]\n",
      " [5 5]\n",
      " [7 7]\n",
      " [0 0]\n",
      " [9 9]\n",
      " [1 1]\n",
      " [6 6]\n",
      " [5 5]\n",
      " [9 9]\n",
      " [7 7]\n",
      " [4 4]\n",
      " [3 3]\n",
      " [8 8]\n",
      " [0 0]\n",
      " [3 3]\n",
      " [6 6]\n",
      " [4 4]\n",
      " [6 6]\n",
      " [3 3]\n",
      " [2 2]\n",
      " [6 6]\n",
      " [8 8]\n",
      " [8 8]\n",
      " [8 8]\n",
      " [4 4]\n",
      " [6 6]\n",
      " [7 7]\n",
      " [5 5]\n",
      " [2 2]\n",
      " [4 4]\n",
      " [5 5]\n",
      " [3 3]\n",
      " [2 2]\n",
      " [4 4]\n",
      " [6 6]\n",
      " [9 9]\n",
      " [4 4]\n",
      " [5 5]\n",
      " [4 4]\n",
      " [3 3]\n",
      " [4 4]\n",
      " [6 6]\n",
      " [2 2]\n",
      " [9 9]\n",
      " [0 0]\n",
      " [1 1]\n",
      " [7 7]\n",
      " [2 2]\n",
      " [0 0]\n",
      " [9 9]\n",
      " [6 6]\n",
      " [0 0]\n",
      " [4 4]\n",
      " [2 2]\n",
      " [0 0]\n",
      " [7 7]\n",
      " [9 9]\n",
      " [8 8]\n",
      " [5 5]\n",
      " [4 4]\n",
      " [8 8]\n",
      " [2 2]\n",
      " [8 8]\n",
      " [4 4]\n",
      " [3 3]\n",
      " [7 7]\n",
      " [2 2]\n",
      " [6 6]\n",
      " [9 9]\n",
      " [1 1]\n",
      " [5 5]\n",
      " [1 1]\n",
      " [0 0]\n",
      " [8 8]\n",
      " [2 2]\n",
      " [8 1]\n",
      " [9 9]\n",
      " [5 5]\n",
      " [6 6]\n",
      " [2 8]\n",
      " [2 2]\n",
      " [7 7]\n",
      " [2 2]\n",
      " [1 1]\n",
      " [5 5]\n",
      " [1 1]\n",
      " [6 6]\n",
      " [4 4]\n",
      " [5 5]\n",
      " [0 0]\n",
      " [9 9]\n",
      " [4 4]\n",
      " [1 1]\n",
      " [1 1]\n",
      " [7 7]\n",
      " [0 0]\n",
      " [8 8]\n",
      " [9 9]\n",
      " [0 0]\n",
      " [5 5]\n",
      " [4 4]\n",
      " [3 3]\n",
      " [8 8]\n",
      " [8 8]\n",
      " [6 6]\n",
      " [5 5]\n",
      " [3 3]\n",
      " [4 4]\n",
      " [4 4]\n",
      " [4 4]\n",
      " [8 8]\n",
      " [8 8]\n",
      " [7 7]\n",
      " [0 0]\n",
      " [9 9]\n",
      " [6 6]\n",
      " [3 3]\n",
      " [5 5]\n",
      " [2 2]\n",
      " [3 3]\n",
      " [0 0]\n",
      " [8 8]\n",
      " [8 3]\n",
      " [3 3]\n",
      " [1 1]\n",
      " [3 3]\n",
      " [3 3]\n",
      " [0 0]\n",
      " [0 0]\n",
      " [4 4]\n",
      " [6 6]\n",
      " [0 0]\n",
      " [7 7]\n",
      " [7 7]\n",
      " [6 6]\n",
      " [2 2]\n",
      " [0 0]\n",
      " [4 4]\n",
      " [4 4]\n",
      " [2 2]\n",
      " [3 3]\n",
      " [7 7]\n",
      " [1 8]\n",
      " [9 9]\n",
      " [8 8]\n",
      " [6 6]\n",
      " [8 8]\n",
      " [5 5]\n",
      " [6 6]\n",
      " [2 2]\n",
      " [2 2]\n",
      " [3 3]\n",
      " [1 1]\n",
      " [7 7]\n",
      " [7 7]\n",
      " [8 8]\n",
      " [0 0]\n",
      " [3 3]\n",
      " [3 3]\n",
      " [2 2]\n",
      " [1 1]\n",
      " [5 5]\n",
      " [5 5]\n",
      " [9 9]\n",
      " [1 1]\n",
      " [3 3]\n",
      " [7 7]\n",
      " [0 0]\n",
      " [0 0]\n",
      " [7 7]\n",
      " [0 0]\n",
      " [4 4]\n",
      " [5 5]\n",
      " [8 9]\n",
      " [9 3]\n",
      " [3 3]\n",
      " [4 4]\n",
      " [3 3]\n",
      " [1 1]\n",
      " [8 8]\n",
      " [9 9]\n",
      " [8 8]\n",
      " [3 3]\n",
      " [6 6]\n",
      " [2 2]\n",
      " [1 1]\n",
      " [6 6]\n",
      " [2 2]\n",
      " [1 1]\n",
      " [7 7]\n",
      " [5 5]\n",
      " [5 5]\n",
      " [1 1]\n",
      " [9 9]]\n"
     ]
    }
   ],
   "source": [
    "y_pred = model.predict(X_test)\n",
    "print(np.concatenate((y_pred.reshape(len(y_pred),1), y_test.reshape(len(y_test),1)),1))"
   ]
  },
  {
   "cell_type": "markdown",
   "id": "2983540e",
   "metadata": {},
   "source": [
    "#### *Evaluating the Model - Accuracy Score*"
   ]
  },
  {
   "cell_type": "code",
   "execution_count": 18,
   "id": "dbdc5692",
   "metadata": {},
   "outputs": [
    {
     "name": "stdout",
     "output_type": "stream",
     "text": [
      "Accuracy of the Model: 97.11111111111111%\n"
     ]
    }
   ],
   "source": [
    "from sklearn.metrics import accuracy_score\n",
    "print(\"Accuracy of the Model: {0}%\".format(accuracy_score(y_test, y_pred)*100))"
   ]
  },
  {
   "cell_type": "markdown",
   "id": "ef72fb22",
   "metadata": {},
   "source": [
    "#### *Evaluating various model*"
   ]
  },
  {
   "cell_type": "code",
   "execution_count": 19,
   "id": "0d69c7d1",
   "metadata": {},
   "outputs": [
    {
     "name": "stdout",
     "output_type": "stream",
     "text": [
      "Accuracy of the Model 1: 97.11111111111111%\n",
      "Accuracy of the Model 2: 99.11111111111111%\n",
      "Accuracy of the Model 3: 99.55555555555556%\n",
      "Accuracy of the Model 4: 96.66666666666667%\n"
     ]
    }
   ],
   "source": [
    "from sklearn import svm\n",
    "model1 = svm.SVC(kernel='linear')\n",
    "model2 = svm.SVC(kernel='rbf')\n",
    "model3 = svm.SVC(gamma=0.001)\n",
    "model4 = svm.SVC(gamma=0.001,C=0.1)\n",
    "\n",
    "model1.fit(X_train,y_train)\n",
    "model2.fit(X_train,y_train)\n",
    "model3.fit(X_train,y_train)\n",
    "model4.fit(X_train,y_train)\n",
    "\n",
    "y_predModel1 = model1.predict(X_test)\n",
    "y_predModel2 = model2.predict(X_test)\n",
    "y_predModel3 = model3.predict(X_test)\n",
    "y_predModel4 = model4.predict(X_test)\n",
    "\n",
    "print(\"Accuracy of the Model 1: {0}%\".format(accuracy_score(y_test, y_predModel1)*100))\n",
    "print(\"Accuracy of the Model 2: {0}%\".format(accuracy_score(y_test, y_predModel2)*100))\n",
    "print(\"Accuracy of the Model 3: {0}%\".format(accuracy_score(y_test, y_predModel3)*100))\n",
    "print(\"Accuracy of the Model 4: {0}%\".format(accuracy_score(y_test, y_predModel4)*100))"
   ]
  },
  {
   "cell_type": "code",
   "execution_count": null,
   "id": "ccf26654",
   "metadata": {},
   "outputs": [],
   "source": []
  }
 ],
 "metadata": {
  "kernelspec": {
   "display_name": "Python 3 (ipykernel)",
   "language": "python",
   "name": "python3"
  },
  "language_info": {
   "codemirror_mode": {
    "name": "ipython",
    "version": 3
   },
   "file_extension": ".py",
   "mimetype": "text/x-python",
   "name": "python",
   "nbconvert_exporter": "python",
   "pygments_lexer": "ipython3",
   "version": "3.9.12"
  }
 },
 "nbformat": 4,
 "nbformat_minor": 5
}
