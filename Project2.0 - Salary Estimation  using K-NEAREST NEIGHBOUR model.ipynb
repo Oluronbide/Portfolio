{
 "cells": [
  {
   "cell_type": "markdown",
   "id": "b6590172",
   "metadata": {},
   "source": [
    "### Project Title - Salary Estimation using K-Nearest Neighbour Model (K-NN Model)\n",
    "\n",
    "#### Objective: This project is to predict whether or not a Job applicant will get a Salary above 50K or below.\n"
   ]
  },
  {
   "cell_type": "markdown",
   "id": "8818ceef",
   "metadata": {},
   "source": [
    "#### *Importing Libraries*"
   ]
  },
  {
   "cell_type": "code",
   "execution_count": 1,
   "id": "c6441c20",
   "metadata": {},
   "outputs": [],
   "source": [
    "import pandas as pd #This is used for loading the dataset\n",
    "import numpy as np #This is useful for numerical computation"
   ]
  },
  {
   "cell_type": "markdown",
   "id": "65fc904b",
   "metadata": {},
   "source": [
    "#### *Loading Dataset file from Local Directory*"
   ]
  },
  {
   "cell_type": "code",
   "execution_count": 4,
   "id": "ae125e65",
   "metadata": {},
   "outputs": [
    {
     "data": {
      "text/html": [
       "<div>\n",
       "<style scoped>\n",
       "    .dataframe tbody tr th:only-of-type {\n",
       "        vertical-align: middle;\n",
       "    }\n",
       "\n",
       "    .dataframe tbody tr th {\n",
       "        vertical-align: top;\n",
       "    }\n",
       "\n",
       "    .dataframe thead th {\n",
       "        text-align: right;\n",
       "    }\n",
       "</style>\n",
       "<table border=\"1\" class=\"dataframe\">\n",
       "  <thead>\n",
       "    <tr style=\"text-align: right;\">\n",
       "      <th></th>\n",
       "      <th>age</th>\n",
       "      <th>education.num</th>\n",
       "      <th>capital.gain</th>\n",
       "      <th>hours.per.week</th>\n",
       "      <th>income</th>\n",
       "    </tr>\n",
       "  </thead>\n",
       "  <tbody>\n",
       "    <tr>\n",
       "      <th>0</th>\n",
       "      <td>90</td>\n",
       "      <td>9</td>\n",
       "      <td>0</td>\n",
       "      <td>40</td>\n",
       "      <td>&lt;=50K</td>\n",
       "    </tr>\n",
       "    <tr>\n",
       "      <th>1</th>\n",
       "      <td>82</td>\n",
       "      <td>9</td>\n",
       "      <td>0</td>\n",
       "      <td>18</td>\n",
       "      <td>&lt;=50K</td>\n",
       "    </tr>\n",
       "    <tr>\n",
       "      <th>2</th>\n",
       "      <td>66</td>\n",
       "      <td>10</td>\n",
       "      <td>0</td>\n",
       "      <td>40</td>\n",
       "      <td>&lt;=50K</td>\n",
       "    </tr>\n",
       "    <tr>\n",
       "      <th>3</th>\n",
       "      <td>54</td>\n",
       "      <td>4</td>\n",
       "      <td>0</td>\n",
       "      <td>40</td>\n",
       "      <td>&lt;=50K</td>\n",
       "    </tr>\n",
       "    <tr>\n",
       "      <th>4</th>\n",
       "      <td>41</td>\n",
       "      <td>10</td>\n",
       "      <td>0</td>\n",
       "      <td>40</td>\n",
       "      <td>&lt;=50K</td>\n",
       "    </tr>\n",
       "    <tr>\n",
       "      <th>...</th>\n",
       "      <td>...</td>\n",
       "      <td>...</td>\n",
       "      <td>...</td>\n",
       "      <td>...</td>\n",
       "      <td>...</td>\n",
       "    </tr>\n",
       "    <tr>\n",
       "      <th>32556</th>\n",
       "      <td>22</td>\n",
       "      <td>10</td>\n",
       "      <td>0</td>\n",
       "      <td>40</td>\n",
       "      <td>&lt;=50K</td>\n",
       "    </tr>\n",
       "    <tr>\n",
       "      <th>32557</th>\n",
       "      <td>27</td>\n",
       "      <td>12</td>\n",
       "      <td>0</td>\n",
       "      <td>38</td>\n",
       "      <td>&lt;=50K</td>\n",
       "    </tr>\n",
       "    <tr>\n",
       "      <th>32558</th>\n",
       "      <td>40</td>\n",
       "      <td>9</td>\n",
       "      <td>0</td>\n",
       "      <td>40</td>\n",
       "      <td>&gt;=50K</td>\n",
       "    </tr>\n",
       "    <tr>\n",
       "      <th>32559</th>\n",
       "      <td>58</td>\n",
       "      <td>9</td>\n",
       "      <td>0</td>\n",
       "      <td>40</td>\n",
       "      <td>&lt;=50K</td>\n",
       "    </tr>\n",
       "    <tr>\n",
       "      <th>32560</th>\n",
       "      <td>22</td>\n",
       "      <td>9</td>\n",
       "      <td>0</td>\n",
       "      <td>20</td>\n",
       "      <td>&lt;=50K</td>\n",
       "    </tr>\n",
       "  </tbody>\n",
       "</table>\n",
       "<p>32561 rows × 5 columns</p>\n",
       "</div>"
      ],
      "text/plain": [
       "       age  education.num  capital.gain  hours.per.week income\n",
       "0       90              9             0              40  <=50K\n",
       "1       82              9             0              18  <=50K\n",
       "2       66             10             0              40  <=50K\n",
       "3       54              4             0              40  <=50K\n",
       "4       41             10             0              40  <=50K\n",
       "...    ...            ...           ...             ...    ...\n",
       "32556   22             10             0              40  <=50K\n",
       "32557   27             12             0              38  <=50K\n",
       "32558   40              9             0              40  >=50K\n",
       "32559   58              9             0              40  <=50K\n",
       "32560   22              9             0              20  <=50K\n",
       "\n",
       "[32561 rows x 5 columns]"
      ]
     },
     "execution_count": 4,
     "metadata": {},
     "output_type": "execute_result"
    }
   ],
   "source": [
    "dataset = pd.read_csv(\"Salary.csv\")\n",
    "dataset"
   ]
  },
  {
   "cell_type": "markdown",
   "id": "d07526ad",
   "metadata": {},
   "source": [
    "#### *Summarizing Dataset*"
   ]
  },
  {
   "cell_type": "code",
   "execution_count": 5,
   "id": "9d05ba8a",
   "metadata": {},
   "outputs": [
    {
     "name": "stdout",
     "output_type": "stream",
     "text": [
      "(32561, 5)\n",
      "   age  education.num  capital.gain  hours.per.week income\n",
      "0   90              9             0              40  <=50K\n",
      "1   82              9             0              18  <=50K\n",
      "2   66             10             0              40  <=50K\n",
      "3   54              4             0              40  <=50K\n",
      "4   41             10             0              40  <=50K\n"
     ]
    }
   ],
   "source": [
    "print(dataset.shape)\n",
    "print(dataset.head(5))"
   ]
  },
  {
   "cell_type": "markdown",
   "id": "77076835",
   "metadata": {},
   "source": [
    "### *Mapping Salary Data to Binary Value*\n",
    "\n",
    "This is to change the logical values (<=50k, >=50k) into a numerical value for easy computation "
   ]
  },
  {
   "cell_type": "code",
   "execution_count": 6,
   "id": "33f142f2",
   "metadata": {},
   "outputs": [
    {
     "name": "stdout",
     "output_type": "stream",
     "text": [
      "<bound method NDFrame.head of        age  education.num  capital.gain  hours.per.week  income\n",
      "0       90              9             0              40       0\n",
      "1       82              9             0              18       0\n",
      "2       66             10             0              40       0\n",
      "3       54              4             0              40       0\n",
      "4       41             10             0              40       0\n",
      "...    ...            ...           ...             ...     ...\n",
      "32556   22             10             0              40       0\n",
      "32557   27             12             0              38       0\n",
      "32558   40              9             0              40       1\n",
      "32559   58              9             0              40       0\n",
      "32560   22              9             0              20       0\n",
      "\n",
      "[32561 rows x 5 columns]>\n"
     ]
    }
   ],
   "source": [
    "income_set = set(dataset['income'])\n",
    "dataset['income'] = dataset['income'].map({'<=50K': 0, '>=50K': 1}).astype(int)\n",
    "print(dataset.head)"
   ]
  },
  {
   "cell_type": "markdown",
   "id": "e6027113",
   "metadata": {},
   "source": [
    "#### *Segregating Dataset into X(Input) & Y(Output)*"
   ]
  },
  {
   "cell_type": "code",
   "execution_count": 7,
   "id": "b9b3f179",
   "metadata": {},
   "outputs": [
    {
     "data": {
      "text/plain": [
       "array([[90,  9,  0, 40],\n",
       "       [82,  9,  0, 18],\n",
       "       [66, 10,  0, 40],\n",
       "       ...,\n",
       "       [40,  9,  0, 40],\n",
       "       [58,  9,  0, 40],\n",
       "       [22,  9,  0, 20]], dtype=int64)"
      ]
     },
     "execution_count": 7,
     "metadata": {},
     "output_type": "execute_result"
    }
   ],
   "source": [
    "X=dataset.iloc[:,:-1].values\n",
    "X"
   ]
  },
  {
   "cell_type": "code",
   "execution_count": 8,
   "id": "5aa4b7bf",
   "metadata": {},
   "outputs": [
    {
     "data": {
      "text/plain": [
       "array([0, 0, 0, ..., 1, 0, 0])"
      ]
     },
     "execution_count": 8,
     "metadata": {},
     "output_type": "execute_result"
    }
   ],
   "source": [
    "y=dataset.iloc[:,-1].values\n",
    "y\n"
   ]
  },
  {
   "cell_type": "markdown",
   "id": "812dccfb",
   "metadata": {},
   "source": [
    "#### *Splitting Dataset into Train & Test*"
   ]
  },
  {
   "cell_type": "code",
   "execution_count": 9,
   "id": "d4a357c8",
   "metadata": {},
   "outputs": [],
   "source": [
    "from sklearn.model_selection import train_test_split\n",
    "X_train, X_test, y_train, y_test = train_test_split(X, y, test_size = 0.25, random_state = 0)"
   ]
  },
  {
   "cell_type": "markdown",
   "id": "fece82e4",
   "metadata": {},
   "source": [
    "#### *Feature Scaling* \n",
    "\n",
    "This is used to ensure our model is not biased towards a particular data due to the difference in the weight of the data."
   ]
  },
  {
   "cell_type": "code",
   "execution_count": 10,
   "id": "3916450c",
   "metadata": {},
   "outputs": [],
   "source": [
    "from sklearn.preprocessing import StandardScaler\n",
    "sc = StandardScaler()\n",
    "X_train = sc.fit_transform(X_train) \n",
    "X_test = sc.transform(X_test) "
   ]
  },
  {
   "cell_type": "markdown",
   "id": "d4626e25",
   "metadata": {},
   "source": [
    "#### *Finding the Best K-Value*"
   ]
  },
  {
   "cell_type": "code",
   "execution_count": 25,
   "id": "f06511ca",
   "metadata": {},
   "outputs": [
    {
     "data": {
      "image/png": "[encoded data removed]",
      "text/plain": [
       "<Figure size 864x432 with 1 Axes>"
      ]
     },
     "metadata": {
      "needs_background": "light"
     },
     "output_type": "display_data"
    }
   ],
   "source": [
    "error = []\n",
    "from sklearn.neighbors import KNeighborsClassifier\n",
    "import matplotlib.pyplot as plt\n",
    "\n",
    "# Calculating error for K values between 1 and 40\n",
    "for i in range(1,40):\n",
    "    model = KNeighborsClassifier(n_neighbors=i)\n",
    "    model.fit(X_train, y_train)\n",
    "    pred_i = model.predict(X_test)\n",
    "    error.append(np.mean(pred_i != y_test))\n",
    "\n",
    "plt.figure(figsize=(12, 6))\n",
    "plt.plot(range(1, 40), error, color='red', linestyle='dashed', marker='o',\n",
    "         markerfacecolor='blue', markersize=10)\n",
    "plt.title('Error Rate K Value')\n",
    "plt.xlabel('K Value')\n",
    "plt.ylabel('Mean Error')\n",
    "plt.grid()"
   ]
  },
  {
   "cell_type": "markdown",
   "id": "8f8a5641",
   "metadata": {},
   "source": [
    "#### *Training the Dataset*"
   ]
  },
  {
   "cell_type": "code",
   "execution_count": 19,
   "id": "85e11efe",
   "metadata": {},
   "outputs": [
    {
     "data": {
      "text/plain": [
       "KNeighborsClassifier(n_neighbors=30)"
      ]
     },
     "execution_count": 19,
     "metadata": {},
     "output_type": "execute_result"
    }
   ],
   "source": [
    "from sklearn.neighbors import KNeighborsClassifier\n",
    "model = KNeighborsClassifier(n_neighbors = 30, metric = 'minkowski', p = 2)\n",
    "model.fit(X_train, y_train)"
   ]
  },
  {
   "cell_type": "markdown",
   "id": "9749d6cf",
   "metadata": {},
   "source": [
    "#### *Predicting whether or not a Job applicant will get a Salary above 50K on below.*"
   ]
  },
  {
   "cell_type": "code",
   "execution_count": 20,
   "id": "1005d994",
   "metadata": {},
   "outputs": [
    {
     "name": "stdout",
     "output_type": "stream",
     "text": [
      "Enter New Employee's Age: 30\n",
      "Enter New Employee's Education: 9\n",
      "Enter New Employee's Captital Gain: 52104\n",
      "Enter New Employee's Hour's Per week: 40\n",
      "[1]\n",
      "Employee might get Salary above 50K\n"
     ]
    }
   ],
   "source": [
    "age = int(input(\"Enter New Employee's Age: \"))\n",
    "edu = int(input(\"Enter New Employee's Education: \"))\n",
    "cg = int(input(\"Enter New Employee's Captital Gain: \"))\n",
    "wh = int(input(\"Enter New Employee's Hour's Per week: \"))\n",
    "newEmp = [[age,edu,cg,wh]]\n",
    "result = model.predict(sc.transform(newEmp))\n",
    "print(result)\n",
    "\n",
    "if result == 1:\n",
    "  print(\"Employee might get Salary above 50K\")\n",
    "else:\n",
    "  print(\"Customer might not get Salary above 50K\")"
   ]
  },
  {
   "cell_type": "markdown",
   "id": "79e9fb2c",
   "metadata": {},
   "source": [
    "#### *Prediction for all Test Data*"
   ]
  },
  {
   "cell_type": "code",
   "execution_count": 21,
   "id": "d430b8ab",
   "metadata": {},
   "outputs": [
    {
     "name": "stdout",
     "output_type": "stream",
     "text": [
      "[[0 0]\n",
      " [0 0]\n",
      " [0 0]\n",
      " ...\n",
      " [0 0]\n",
      " [0 0]\n",
      " [0 0]]\n"
     ]
    }
   ],
   "source": [
    "y_pred = model.predict(X_test)\n",
    "print(np.concatenate((y_pred.reshape(len(y_pred),1), y_test.reshape(len(y_test),1)),1))"
   ]
  },
  {
   "cell_type": "markdown",
   "id": "451611bd",
   "metadata": {},
   "source": [
    "#### *Evaluating Model - CONFUSION MATRIX*"
   ]
  },
  {
   "cell_type": "code",
   "execution_count": 22,
   "id": "d897608e",
   "metadata": {},
   "outputs": [
    {
     "name": "stdout",
     "output_type": "stream",
     "text": [
      "Confusion Matrix: \n",
      "[[5868  325]\n",
      " [1170  778]]\n",
      "Accuracy of the Model: 81.6361626335831%\n"
     ]
    }
   ],
   "source": [
    "from sklearn.metrics import confusion_matrix, accuracy_score\n",
    "cm = confusion_matrix(y_test, y_pred)\n",
    "\n",
    "print(\"Confusion Matrix: \")\n",
    "print(cm)\n",
    "\n",
    "print(\"Accuracy of the Model: {0}%\".format(accuracy_score(y_test, y_pred)*100))"
   ]
  }
 ],
 "metadata": {
  "kernelspec": {
   "display_name": "Python 3 (ipykernel)",
   "language": "python",
   "name": "python3"
  },
  "language_info": {
   "codemirror_mode": {
    "name": "ipython",
    "version": 3
   },
   "file_extension": ".py",
   "mimetype": "text/x-python",
   "name": "python",
   "nbconvert_exporter": "python",
   "pygments_lexer": "ipython3",
   "version": "3.9.12"
  }
 },
 "nbformat": 4,
 "nbformat_minor": 5
}
